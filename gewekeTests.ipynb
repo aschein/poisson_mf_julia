{
 "cells": [
  {
   "cell_type": "code",
   "execution_count": 1,
   "metadata": {},
   "outputs": [
    {
     "name": "stderr",
     "output_type": "stream",
     "text": [
      "WARNING: using Distributions.fit in module Main conflicts with an existing identifier.\n"
     ]
    },
    {
     "data": {
      "text/plain": [
       "backward_sample (generic function with 4 methods)"
      ]
     },
     "metadata": {},
     "output_type": "display_data"
    }
   ],
   "source": [
    "include(\"poissonMF.jl\")\n",
    "include(\"poissonMaxMF.jl\")"
   ]
  },
  {
   "cell_type": "code",
   "execution_count": 3,
   "metadata": {},
   "outputs": [
    {
     "data": {
      "text/plain": [
       "gewekepvalue (generic function with 1 method)"
      ]
     },
     "metadata": {},
     "output_type": "display_data"
    }
   ],
   "source": [
    "function gewekepvalue(forw, back)\n",
    "    num = mean(forw) - mean(back)\n",
    "    varf = mean([u^2 for u in forw]) - mean(forw)^2\n",
    "    varb = mean([u^2 for u in back]) - mean(back)^2\n",
    "    teststat = num/((1/length(forw))*varf+(1/length(back))*varb)^(1/2)\n",
    "    return 2*(1 - cdf(Normal(0,1), abs(teststat)))\n",
    "end"
   ]
  },
  {
   "cell_type": "code",
   "execution_count": 63,
   "metadata": {},
   "outputs": [
    {
     "name": "stdout",
     "output_type": "stream",
     "text": [
      "[1 7 1 1 4; 0 2 0 0 0; 3 1 0 3 0; 1 8 7 1 7; 4 9 1 4 1]"
     ]
    },
    {
     "name": "stderr",
     "output_type": "stream",
     "text": [
      "\u001b[32mProgress: 100%|█████████████████████████████████████████| Time: 0:00:02\u001b[39m\u001b[K\n",
      "\u001b[32mProgress: 100%|█████████████████████████████████████████| Time: 0:00:02\u001b[39m\u001b[K\n"
     ]
    },
    {
     "name": "stdout",
     "output_type": "stream",
     "text": [
      "0.3180400777924117\n",
      "0.5923987913490241\n",
      "0.9878601825277769\n",
      "0.784146317177929\n"
     ]
    }
   ],
   "source": [
    "N = 5\n",
    "M = 5\n",
    "K = 2\n",
    "a = c = 1\n",
    "b = d = 1\n",
    "\n",
    "model = poissonMF(N,M,K,a,b,c,d)\n",
    "fsamples, bsamples = gewekeTest(model, [\"U_NK\", \"V_KM\"], nsamples=10000, nburnin=100000, nthin=10)\n",
    "fVmeans = [mean(s) for s in fsamples[\"V_KM\"]]\n",
    "fUmeans = [mean(s) for s in fsamples[\"U_NK\"]]\n",
    "fVvars = [var(s) for s in fsamples[\"V_KM\"]]\n",
    "fUvars = [var(s) for s in fsamples[\"U_NK\"]]\n",
    "bVmeans = [mean(s) for s in bsamples[\"V_KM\"]]\n",
    "bUmeans = [mean(s) for s in bsamples[\"U_NK\"]]\n",
    "bVvars = [var(s) for s in bsamples[\"V_KM\"]]\n",
    "bUvars = [var(s) for s in bsamples[\"U_NK\"]]\n",
    "println(gewekepvalue(fVmeans, bVmeans))\n",
    "println(gewekepvalue(fUmeans, bUmeans))\n",
    "println(gewekepvalue(fVvars, bVvars))\n",
    "println(gewekepvalue(fUvars, bUvars))"
   ]
  },
  {
   "cell_type": "code",
   "execution_count": 10,
   "metadata": {},
   "outputs": [],
   "source": [
    "N = 3\n",
    "M = 3\n",
    "K = 2\n",
    "a = c = 1\n",
    "b = d = .1\n",
    "D = 2\n",
    "model = maxPoissonMF(N,M,K,a,b,c,d,D)\n",
    "fsamples, bsamples = gewekeTest(model, [\"U_NK\", \"V_KM\"], nsamples=100000, nburnin=10000000, nthin=50)\n",
    "fVmeans = [mean(s) for s in fsamples[\"V_KM\"]]\n",
    "fUmeans = [mean(s) for s in fsamples[\"U_NK\"]]\n",
    "fVvars = [var(s) for s in fsamples[\"V_KM\"]]\n",
    "fUvars = [var(s) for s in fsamples[\"U_NK\"]]\n",
    "bVmeans = [mean(s) for s in bsamples[\"V_KM\"]]\n",
    "bUmeans = [mean(s) for s in bsamples[\"U_NK\"]]\n",
    "bVvars = [var(s) for s in bsamples[\"V_KM\"]]\n",
    "bUvars = [var(s) for s in bsamples[\"U_NK\"]]\n",
    "println(gewekepvalue(fVmeans, bVmeans))\n",
    "println(gewekepvalue(fUmeans, bUmeans))\n",
    "println(gewekepvalue(fVvars, bVvars))\n",
    "println(gewekepvalue(fUvars, bUvars))"
   ]
  },
  {
   "cell_type": "code",
   "execution_count": 15,
   "metadata": {},
   "outputs": [],
   "source": [
    "@assert gewekepvalue(fVmeans, bVmeans) > 0.05\n",
    "@assert gewekepvalue(fUmeans, bUmeans) > 0.05\n",
    "@assert gewekepvalue(fVvars, bVvars) > 0.05\n",
    "@assert gewekepvalue(fUvars, bUvars) > 0.05\n",
    "# println(gewekepvalue(fVmeans, bVmeans))\n",
    "# println(gewekepvalue(fUmeans, bUmeans))\n",
    "# println(gewekepvalue(fVvars, bVvars))\n",
    "# println(gewekepvalue(fUvars, bUvars))"
   ]
  }
 ],
 "metadata": {
  "kernelspec": {
   "display_name": "Julia 1.10.4",
   "language": "julia",
   "name": "julia-1.10"
  },
  "language_info": {
   "file_extension": ".jl",
   "mimetype": "application/julia",
   "name": "julia",
   "version": "1.10.4"
  }
 },
 "nbformat": 4,
 "nbformat_minor": 2
}
